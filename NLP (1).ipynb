{
  "nbformat": 4,
  "nbformat_minor": 0,
  "metadata": {
    "colab": {
      "name": "NLP.ipynb",
      "provenance": [],
      "collapsed_sections": []
    },
    "kernelspec": {
      "name": "python3",
      "display_name": "Python 3"
    },
    "language_info": {
      "name": "python"
    }
  },
  "cells": [
    {
      "cell_type": "markdown",
      "source": [
        "# Génération de texte"
      ],
      "metadata": {
        "id": "GmXaaMuXzABJ"
      }
    },
    {
      "cell_type": "markdown",
      "source": [
        "Les données viennent du site https://jeunesse.short-edition.com/categorie/6-8 contenant de multiples histoires pour les enfants de 6 à 8 ans.\n",
        "\n",
        "L'objectif est de générer des mots afin de construire de courtes phrases à partir du début que l'on donne."
      ],
      "metadata": {
        "id": "mbokbmuXzKtO"
      }
    },
    {
      "cell_type": "code",
      "execution_count": null,
      "metadata": {
        "id": "B0BSUE4C1XMF"
      },
      "outputs": [],
      "source": [
        "from tensorflow.keras.preprocessing.sequence import pad_sequences\n",
        "from tensorflow.keras.layers import Embedding, LSTM, Dense, Dropout, Bidirectional\n",
        "from tensorflow.keras.preprocessing.text import Tokenizer\n",
        "from tensorflow.keras.models import Sequential\n",
        "from tensorflow.keras.optimizers import Adam\n",
        "import numpy as np\n",
        "import tensorflow as tf"
      ]
    },
    {
      "cell_type": "code",
      "source": [
        "filename = \"/content/drive/MyDrive/Projet nlp histoire/histoire.txt\""
      ],
      "metadata": {
        "id": "ONBzxA6g1gqD"
      },
      "execution_count": null,
      "outputs": []
    },
    {
      "cell_type": "code",
      "source": [
        "with open(filename) as f:\n",
        "  lines = f.readlines()"
      ],
      "metadata": {
        "id": "vSnjhDBW2Eg9"
      },
      "execution_count": null,
      "outputs": []
    },
    {
      "cell_type": "code",
      "source": [
        "lines[:5]"
      ],
      "metadata": {
        "id": "tgvpLZ1N21Y9",
        "colab": {
          "base_uri": "https://localhost:8080/"
        },
        "outputId": "429edc07-3168-4703-ac8b-9e748bc270cd"
      },
      "execution_count": null,
      "outputs": [
        {
          "output_type": "execute_result",
          "data": {
            "text/plain": [
              "[\"J'ai peur. Il fait froid. Je me serre contre la fourrure de Jacquot. C'est notre chien. Adélaïde m'a dit de ne pas le quitter lorsqu'elle est partie avec Louise. Elle m'a laissé dans le jardin derrière la maison. « Reste avec Jacquot. Je vais chercher les clefs. Je reviens très vite ». Adé c'est notre babysitter. Elle vient nous chercher tous les soirs à l'école, récupère Louise dans la cour de la maternelle et moi à la sortie du CP. Elle s'occupe de nous jusqu'à ce que Papa ou Maman rentre.\\n\",\n",
              " \"On s'amuse bien avec Adé. On joue à aller faire les courses : on prend le bus jusqu'en ville. On ne paie pas. Je n'aime pas ça, c'est interdit. Adé se moque : « Quel trouillard ! ». Dans le magasin, Adé nous achète des bonbons et on l'attend pendant qu'elle essaie des robes, des jupes, des Tshirts. Ou du maquillage. Deux fois on a « sonné » en sortant du magasin. Un monsieur nous a couru après. Adé a dû montrer ce qu'il y avait dans son sac. Elle avait oublié de payer du rouge à lèvres. Elle a fait semblant de me gronder : « C'est mon petit frère qui l'a mis dans mon sac. » J'ai promis de ne rien dire à Papa et Maman.\\n\",\n",
              " \"Un autre jeu d'Adé, c'est la moto. Elle appartient à son copain, Georges. Ils viennent nous chercher à l'école et vrrroum c'est parti. « On ne bouge pas ! On s'accroche au portebagages », ordonne Georges. Louise rit. Moi aussi : je ne veux pas montrer que j'ai la trouille. Quand Louise est tombée et qu'elle a saigné de la tête, on a menti : « Elle est tombée dans la cour de l'école », a dit Adé.\\n\",\n",
              " \"Adé n'avait encore jamais joué à oublier les clefs de la maison chez elle. Je ne sais pas pourquoi elle m'a laissé ici avec le chien. J'aurais pu l'accompagner comme Louise. Il fait nuit maintenant. Jacquot est gentil, il me réchauffe. Mais soudain il s'énerve et aboie. Quelqu'un passe dans la rue au fond du jardin. On dirait qu'il s'arrête juste derrière notre mur. J'ai envie de crier. Il viendrait me délivrer. Mais si c'était un voleur ? Un voleur d'enfants ? Ça existe. Papa et Maman nous disent de faire attention, de ne pas monter en voiture avec des gens qu'on ne connaît pas. Le passant est reparti.\\n\",\n",
              " \"Et si Adé et Louise s'étaient perdues ? Ça arrive, même quand on connaît son chemin. Adé a peutêtre tourné à droite alors qu'il fallait aller tout droit ? Elle est un peu « tête en l'air » Adé. C'est ce que dit Maman. Je ne suis pas d'accord : elle marche en regardant ses pieds. Mais Maman m'a expliqué : cela veut dire ne pas faire attention à ce qu'on fait, oublier ses clefs par exemple.\\n\"]"
            ]
          },
          "metadata": {},
          "execution_count": 51
        }
      ]
    },
    {
      "cell_type": "code",
      "source": [
        "new_list = list()\n",
        "for phrase in lines:\n",
        "  temp = phrase.split('. ')\n",
        "  for ph in temp:\n",
        "    new_list.append(ph)"
      ],
      "metadata": {
        "id": "xUKA1vJ32X2u"
      },
      "execution_count": null,
      "outputs": []
    },
    {
      "cell_type": "code",
      "source": [
        "new_list[:5]"
      ],
      "metadata": {
        "colab": {
          "base_uri": "https://localhost:8080/"
        },
        "id": "Y0Jayl_Z24bF",
        "outputId": "3ce5246b-928c-4fee-ba82-be6b519cd480"
      },
      "execution_count": null,
      "outputs": [
        {
          "output_type": "execute_result",
          "data": {
            "text/plain": [
              "[\"J'ai peur\",\n",
              " 'Il fait froid',\n",
              " 'Je me serre contre la fourrure de Jacquot',\n",
              " \"C'est notre chien\",\n",
              " \"Adélaïde m'a dit de ne pas le quitter lorsqu'elle est partie avec Louise\"]"
            ]
          },
          "metadata": {},
          "execution_count": 52
        }
      ]
    },
    {
      "cell_type": "code",
      "source": [
        "tokenizer = Tokenizer()\n",
        "tokenizer.fit_on_texts(new_list)"
      ],
      "metadata": {
        "id": "REwDLueQ252V"
      },
      "execution_count": null,
      "outputs": []
    },
    {
      "cell_type": "code",
      "source": [
        "total_mot = len(tokenizer.word_index) + 1"
      ],
      "metadata": {
        "id": "MwhuHnhf3R_N"
      },
      "execution_count": null,
      "outputs": []
    },
    {
      "cell_type": "markdown",
      "source": [
        "Pour connaitre la longueur moyenne des phrases:"
      ],
      "metadata": {
        "id": "38KkBzQctgXI"
      }
    },
    {
      "cell_type": "code",
      "source": [
        "seq = tokenizer.texts_to_sequences(new_list)"
      ],
      "metadata": {
        "id": "BeVRfuzx3auS"
      },
      "execution_count": null,
      "outputs": []
    },
    {
      "cell_type": "code",
      "source": [
        "liste = list()\n",
        "for longg in seq:\n",
        "  liste.append(len(longg))"
      ],
      "metadata": {
        "id": "fYz9Tcfe3cZC"
      },
      "execution_count": null,
      "outputs": []
    },
    {
      "cell_type": "code",
      "source": [
        "np.mean(liste)"
      ],
      "metadata": {
        "id": "AHW1lHkB3kve",
        "colab": {
          "base_uri": "https://localhost:8080/"
        },
        "outputId": "5a0f2644-c0b8-4030-d941-88e64b9c07c3"
      },
      "execution_count": null,
      "outputs": [
        {
          "output_type": "execute_result",
          "data": {
            "text/plain": [
              "9.569959488937364"
            ]
          },
          "metadata": {},
          "execution_count": 12
        }
      ]
    },
    {
      "cell_type": "code",
      "source": [
        "input_sequence = list()\n",
        "for line in new_list:\n",
        "  token_list = tokenizer.texts_to_sequences([line])[0]\n",
        "  for i in range(1, len(token_list)):\n",
        "    n_gram_sequence = token_list[:i+1]\n",
        "    input_sequence.append(n_gram_sequence)"
      ],
      "metadata": {
        "id": "6WNgpA9d7-Kc"
      },
      "execution_count": null,
      "outputs": []
    },
    {
      "cell_type": "code",
      "source": [
        "padded = pad_sequences(input_sequence, maxlen = 10, padding = 'pre')"
      ],
      "metadata": {
        "id": "bleBVsJX9AvM"
      },
      "execution_count": null,
      "outputs": []
    },
    {
      "cell_type": "code",
      "source": [
        "input = padded[:,:-1]\n",
        "target = padded[:,-1]"
      ],
      "metadata": {
        "id": "aliXKPnORn2k"
      },
      "execution_count": null,
      "outputs": []
    },
    {
      "cell_type": "code",
      "source": [
        "train_data = tf.data.Dataset.from_tensor_slices((input, target)).shuffle(1000).batch(128, drop_remainder=True).prefetch(1)"
      ],
      "metadata": {
        "id": "H8KavTomSW90"
      },
      "execution_count": null,
      "outputs": []
    },
    {
      "cell_type": "code",
      "source": [
        "model = Sequential([\n",
        "                    Embedding(total_mot, 300, input_length=9),\n",
        "                    Bidirectional(LSTM(10, return_sequences=True)),\n",
        "                    LSTM(100),\n",
        "                    Dense(total_mot/4, activation='relu'),\n",
        "                    Dense(total_mot, activation='softmax')\n",
        "])\n",
        "model.compile(optimizer=Adam(learning_rate=0.01), loss='sparse_categorical_crossentropy', metrics=['accuracy'])"
      ],
      "metadata": {
        "id": "EuMAs91oSt9x"
      },
      "execution_count": null,
      "outputs": []
    },
    {
      "cell_type": "code",
      "source": [
        "history =  model.fit(train_data, epochs=200)"
      ],
      "metadata": {
        "colab": {
          "base_uri": "https://localhost:8080/"
        },
        "id": "47btPThnZixW",
        "outputId": "0b6622a9-fb66-4f81-d03f-086590bacfbc"
      },
      "execution_count": null,
      "outputs": [
        {
          "output_type": "stream",
          "name": "stdout",
          "text": [
            "Epoch 1/200\n",
            "219/219 [==============================] - 53s 241ms/step - loss: 7.0224 - accuracy: 0.0380\n",
            "Epoch 2/200\n",
            "219/219 [==============================] - 41s 189ms/step - loss: 6.0775 - accuracy: 0.0605\n",
            "Epoch 3/200\n",
            "219/219 [==============================] - 43s 198ms/step - loss: 5.6754 - accuracy: 0.0826\n",
            "Epoch 4/200\n",
            "219/219 [==============================] - 43s 198ms/step - loss: 5.3867 - accuracy: 0.0954\n",
            "Epoch 5/200\n",
            "219/219 [==============================] - 46s 210ms/step - loss: 5.1677 - accuracy: 0.1047\n",
            "Epoch 6/200\n",
            "219/219 [==============================] - 45s 207ms/step - loss: 4.9878 - accuracy: 0.1128\n",
            "Epoch 7/200\n",
            "219/219 [==============================] - 46s 211ms/step - loss: 4.8405 - accuracy: 0.1244\n",
            "Epoch 8/200\n",
            "219/219 [==============================] - 48s 220ms/step - loss: 4.6981 - accuracy: 0.1318\n",
            "Epoch 9/200\n",
            "219/219 [==============================] - 47s 216ms/step - loss: 4.5685 - accuracy: 0.1368\n",
            "Epoch 10/200\n",
            "219/219 [==============================] - 47s 213ms/step - loss: 4.4151 - accuracy: 0.1486\n",
            "Epoch 11/200\n",
            "219/219 [==============================] - 47s 214ms/step - loss: 4.2807 - accuracy: 0.1567\n",
            "Epoch 12/200\n",
            "219/219 [==============================] - 46s 211ms/step - loss: 4.2234 - accuracy: 0.1622\n",
            "Epoch 13/200\n",
            "219/219 [==============================] - 48s 217ms/step - loss: 4.1220 - accuracy: 0.1681\n",
            "Epoch 14/200\n",
            "219/219 [==============================] - 48s 220ms/step - loss: 4.0558 - accuracy: 0.1736\n",
            "Epoch 15/200\n",
            "219/219 [==============================] - 48s 219ms/step - loss: 3.9312 - accuracy: 0.1834\n",
            "Epoch 16/200\n",
            "219/219 [==============================] - 48s 218ms/step - loss: 3.8539 - accuracy: 0.1892\n",
            "Epoch 17/200\n",
            "219/219 [==============================] - 47s 217ms/step - loss: 3.8279 - accuracy: 0.1945\n",
            "Epoch 18/200\n",
            "219/219 [==============================] - 47s 217ms/step - loss: 3.7554 - accuracy: 0.2030\n",
            "Epoch 19/200\n",
            "219/219 [==============================] - 47s 215ms/step - loss: 3.6854 - accuracy: 0.2080\n",
            "Epoch 20/200\n",
            "219/219 [==============================] - 47s 214ms/step - loss: 3.6427 - accuracy: 0.2130\n",
            "Epoch 21/200\n",
            "219/219 [==============================] - 47s 215ms/step - loss: 3.5500 - accuracy: 0.2256\n",
            "Epoch 22/200\n",
            "219/219 [==============================] - 48s 220ms/step - loss: 3.4964 - accuracy: 0.2307\n",
            "Epoch 23/200\n",
            "219/219 [==============================] - 48s 219ms/step - loss: 3.4254 - accuracy: 0.2410\n",
            "Epoch 24/200\n",
            "219/219 [==============================] - 48s 218ms/step - loss: 3.3592 - accuracy: 0.2523\n",
            "Epoch 25/200\n",
            "219/219 [==============================] - 47s 216ms/step - loss: 3.3020 - accuracy: 0.2567\n",
            "Epoch 26/200\n",
            "219/219 [==============================] - 47s 214ms/step - loss: 3.2155 - accuracy: 0.2661\n",
            "Epoch 27/200\n",
            "219/219 [==============================] - 47s 213ms/step - loss: 3.1174 - accuracy: 0.2809\n",
            "Epoch 28/200\n",
            "219/219 [==============================] - 44s 203ms/step - loss: 3.0972 - accuracy: 0.2977\n",
            "Epoch 29/200\n",
            "219/219 [==============================] - 43s 198ms/step - loss: 3.0587 - accuracy: 0.2967\n",
            "Epoch 30/200\n",
            "219/219 [==============================] - 44s 201ms/step - loss: 2.9974 - accuracy: 0.3045\n",
            "Epoch 31/200\n",
            "219/219 [==============================] - 42s 194ms/step - loss: 2.9185 - accuracy: 0.3157\n",
            "Epoch 32/200\n",
            "219/219 [==============================] - 42s 194ms/step - loss: 2.9005 - accuracy: 0.3228\n",
            "Epoch 33/200\n",
            "219/219 [==============================] - 42s 193ms/step - loss: 2.8670 - accuracy: 0.3264\n",
            "Epoch 34/200\n",
            "219/219 [==============================] - 42s 191ms/step - loss: 2.8202 - accuracy: 0.3335\n",
            "Epoch 35/200\n",
            "219/219 [==============================] - 42s 191ms/step - loss: 2.7907 - accuracy: 0.3465\n",
            "Epoch 36/200\n",
            "219/219 [==============================] - 42s 191ms/step - loss: 2.6969 - accuracy: 0.3576\n",
            "Epoch 37/200\n",
            "219/219 [==============================] - 46s 208ms/step - loss: 2.6807 - accuracy: 0.3609\n",
            "Epoch 38/200\n",
            "219/219 [==============================] - 45s 207ms/step - loss: 2.6542 - accuracy: 0.3663\n",
            "Epoch 39/200\n",
            "219/219 [==============================] - 47s 214ms/step - loss: 2.6166 - accuracy: 0.3705\n",
            "Epoch 40/200\n",
            "219/219 [==============================] - 47s 215ms/step - loss: 2.5766 - accuracy: 0.3807\n",
            "Epoch 41/200\n",
            "219/219 [==============================] - 47s 214ms/step - loss: 2.5974 - accuracy: 0.3775\n",
            "Epoch 42/200\n",
            "219/219 [==============================] - 47s 213ms/step - loss: 2.5548 - accuracy: 0.3843\n",
            "Epoch 43/200\n",
            "219/219 [==============================] - 48s 217ms/step - loss: 2.5276 - accuracy: 0.3957\n",
            "Epoch 44/200\n",
            "219/219 [==============================] - 46s 211ms/step - loss: 2.4963 - accuracy: 0.4004\n",
            "Epoch 45/200\n",
            "219/219 [==============================] - 45s 207ms/step - loss: 2.4201 - accuracy: 0.4144\n",
            "Epoch 46/200\n",
            "219/219 [==============================] - 45s 207ms/step - loss: 2.3227 - accuracy: 0.4290\n",
            "Epoch 47/200\n",
            "219/219 [==============================] - 42s 193ms/step - loss: 2.3152 - accuracy: 0.4352\n",
            "Epoch 48/200\n",
            "219/219 [==============================] - 44s 201ms/step - loss: 2.2663 - accuracy: 0.4443\n",
            "Epoch 49/200\n",
            "219/219 [==============================] - 43s 195ms/step - loss: 2.1985 - accuracy: 0.4524\n",
            "Epoch 50/200\n",
            "219/219 [==============================] - 43s 194ms/step - loss: 2.1775 - accuracy: 0.4620\n",
            "Epoch 51/200\n",
            "219/219 [==============================] - 42s 194ms/step - loss: 2.1750 - accuracy: 0.4639\n",
            "Epoch 52/200\n",
            "219/219 [==============================] - 43s 199ms/step - loss: 2.2137 - accuracy: 0.4529\n",
            "Epoch 53/200\n",
            "219/219 [==============================] - 46s 211ms/step - loss: 2.2109 - accuracy: 0.4588\n",
            "Epoch 54/200\n",
            "219/219 [==============================] - 46s 209ms/step - loss: 2.1654 - accuracy: 0.4671\n",
            "Epoch 55/200\n",
            "219/219 [==============================] - 41s 189ms/step - loss: 2.1139 - accuracy: 0.4770\n",
            "Epoch 56/200\n",
            "219/219 [==============================] - 42s 193ms/step - loss: 2.1496 - accuracy: 0.4751\n",
            "Epoch 57/200\n",
            "219/219 [==============================] - 42s 192ms/step - loss: 2.0901 - accuracy: 0.4853\n",
            "Epoch 58/200\n",
            "219/219 [==============================] - 42s 194ms/step - loss: 2.0508 - accuracy: 0.4916\n",
            "Epoch 59/200\n",
            "219/219 [==============================] - 42s 193ms/step - loss: 1.9954 - accuracy: 0.5028\n",
            "Epoch 60/200\n",
            "219/219 [==============================] - 43s 196ms/step - loss: 1.9184 - accuracy: 0.5142\n",
            "Epoch 61/200\n",
            "219/219 [==============================] - 43s 196ms/step - loss: 1.9129 - accuracy: 0.5163\n",
            "Epoch 62/200\n",
            "219/219 [==============================] - 43s 195ms/step - loss: 1.9273 - accuracy: 0.5129\n",
            "Epoch 63/200\n",
            "219/219 [==============================] - 43s 196ms/step - loss: 1.9424 - accuracy: 0.5148\n",
            "Epoch 64/200\n",
            "219/219 [==============================] - 43s 195ms/step - loss: 1.8462 - accuracy: 0.5280\n",
            "Epoch 65/200\n",
            "219/219 [==============================] - 43s 196ms/step - loss: 1.7913 - accuracy: 0.5440\n",
            "Epoch 66/200\n",
            "219/219 [==============================] - 43s 197ms/step - loss: 1.7925 - accuracy: 0.5483\n",
            "Epoch 67/200\n",
            "219/219 [==============================] - 43s 197ms/step - loss: 1.7746 - accuracy: 0.5486\n",
            "Epoch 68/200\n",
            "219/219 [==============================] - 43s 196ms/step - loss: 1.8388 - accuracy: 0.5425\n",
            "Epoch 69/200\n",
            "219/219 [==============================] - 44s 199ms/step - loss: 1.9089 - accuracy: 0.5280\n",
            "Epoch 70/200\n",
            "219/219 [==============================] - 44s 201ms/step - loss: 1.8208 - accuracy: 0.5396\n",
            "Epoch 71/200\n",
            "219/219 [==============================] - 44s 202ms/step - loss: 1.8103 - accuracy: 0.5429\n",
            "Epoch 72/200\n",
            "219/219 [==============================] - 43s 198ms/step - loss: 1.7464 - accuracy: 0.5555\n",
            "Epoch 73/200\n",
            "219/219 [==============================] - 44s 199ms/step - loss: 1.8157 - accuracy: 0.5393\n",
            "Epoch 74/200\n",
            "219/219 [==============================] - 43s 198ms/step - loss: 1.7510 - accuracy: 0.5530\n",
            "Epoch 75/200\n",
            "219/219 [==============================] - 43s 198ms/step - loss: 1.6815 - accuracy: 0.5682\n",
            "Epoch 76/200\n",
            "219/219 [==============================] - 44s 201ms/step - loss: 1.6383 - accuracy: 0.5742\n",
            "Epoch 77/200\n",
            "219/219 [==============================] - 45s 205ms/step - loss: 1.6987 - accuracy: 0.5710\n",
            "Epoch 78/200\n",
            "219/219 [==============================] - 47s 216ms/step - loss: 1.6973 - accuracy: 0.5695\n",
            "Epoch 79/200\n",
            "219/219 [==============================] - 48s 217ms/step - loss: 1.6839 - accuracy: 0.5699\n",
            "Epoch 80/200\n",
            "219/219 [==============================] - 47s 214ms/step - loss: 1.6610 - accuracy: 0.5748\n",
            "Epoch 81/200\n",
            "219/219 [==============================] - 47s 214ms/step - loss: 1.5860 - accuracy: 0.5876\n",
            "Epoch 82/200\n",
            "219/219 [==============================] - 47s 214ms/step - loss: 1.5651 - accuracy: 0.5944\n",
            "Epoch 83/200\n",
            "219/219 [==============================] - 47s 214ms/step - loss: 1.6105 - accuracy: 0.5847\n",
            "Epoch 84/200\n",
            "219/219 [==============================] - 46s 210ms/step - loss: 1.6269 - accuracy: 0.5843\n",
            "Epoch 85/200\n",
            "219/219 [==============================] - 46s 209ms/step - loss: 1.6770 - accuracy: 0.5735\n",
            "Epoch 86/200\n",
            "219/219 [==============================] - 44s 202ms/step - loss: 1.6073 - accuracy: 0.5915\n",
            "Epoch 87/200\n",
            "219/219 [==============================] - 44s 200ms/step - loss: 1.5235 - accuracy: 0.6060\n",
            "Epoch 88/200\n",
            "219/219 [==============================] - 45s 207ms/step - loss: 1.4992 - accuracy: 0.6112\n",
            "Epoch 89/200\n",
            "219/219 [==============================] - 43s 198ms/step - loss: 1.4332 - accuracy: 0.6193\n",
            "Epoch 90/200\n",
            "219/219 [==============================] - 43s 197ms/step - loss: 1.4758 - accuracy: 0.6179\n",
            "Epoch 91/200\n",
            "219/219 [==============================] - 43s 198ms/step - loss: 1.4505 - accuracy: 0.6213\n",
            "Epoch 92/200\n",
            "219/219 [==============================] - 43s 197ms/step - loss: 1.4939 - accuracy: 0.6092\n",
            "Epoch 93/200\n",
            "219/219 [==============================] - 46s 208ms/step - loss: 1.4346 - accuracy: 0.6209\n",
            "Epoch 94/200\n",
            "219/219 [==============================] - 47s 216ms/step - loss: 1.3925 - accuracy: 0.6325\n",
            "Epoch 95/200\n",
            "219/219 [==============================] - 46s 211ms/step - loss: 1.3790 - accuracy: 0.6352\n",
            "Epoch 96/200\n",
            "219/219 [==============================] - 47s 216ms/step - loss: 1.3641 - accuracy: 0.6398\n",
            "Epoch 97/200\n",
            "219/219 [==============================] - 47s 214ms/step - loss: 1.3730 - accuracy: 0.6328\n",
            "Epoch 98/200\n",
            "219/219 [==============================] - 48s 218ms/step - loss: 1.4101 - accuracy: 0.6275\n",
            "Epoch 99/200\n",
            "219/219 [==============================] - 48s 219ms/step - loss: 1.4421 - accuracy: 0.6233\n",
            "Epoch 100/200\n",
            "219/219 [==============================] - 49s 223ms/step - loss: 1.4890 - accuracy: 0.6175\n",
            "Epoch 101/200\n",
            "219/219 [==============================] - 48s 221ms/step - loss: 1.3841 - accuracy: 0.6371\n",
            "Epoch 102/200\n",
            "219/219 [==============================] - 49s 222ms/step - loss: 1.3356 - accuracy: 0.6493\n",
            "Epoch 103/200\n",
            "219/219 [==============================] - 47s 213ms/step - loss: 1.3197 - accuracy: 0.6514\n",
            "Epoch 104/200\n",
            "219/219 [==============================] - 46s 209ms/step - loss: 1.2691 - accuracy: 0.6610\n",
            "Epoch 105/200\n",
            "219/219 [==============================] - 45s 205ms/step - loss: 1.3011 - accuracy: 0.6539\n",
            "Epoch 106/200\n",
            "219/219 [==============================] - 45s 207ms/step - loss: 1.1978 - accuracy: 0.6778\n",
            "Epoch 107/200\n",
            "219/219 [==============================] - 45s 207ms/step - loss: 1.1587 - accuracy: 0.6850\n",
            "Epoch 108/200\n",
            "219/219 [==============================] - 45s 206ms/step - loss: 1.1574 - accuracy: 0.6888\n",
            "Epoch 109/200\n",
            "219/219 [==============================] - 45s 205ms/step - loss: 1.1632 - accuracy: 0.6874\n",
            "Epoch 110/200\n",
            "219/219 [==============================] - 45s 207ms/step - loss: 1.1266 - accuracy: 0.6947\n",
            "Epoch 111/200\n",
            "219/219 [==============================] - 46s 208ms/step - loss: 1.1291 - accuracy: 0.6948\n",
            "Epoch 112/200\n",
            "219/219 [==============================] - 44s 202ms/step - loss: 1.1764 - accuracy: 0.6838\n",
            "Epoch 113/200\n",
            "219/219 [==============================] - 46s 210ms/step - loss: 1.2911 - accuracy: 0.6691\n",
            "Epoch 114/200\n",
            "219/219 [==============================] - 45s 207ms/step - loss: 1.2814 - accuracy: 0.6601\n",
            "Epoch 115/200\n",
            "219/219 [==============================] - 44s 201ms/step - loss: 1.2964 - accuracy: 0.6587\n",
            "Epoch 116/200\n",
            "219/219 [==============================] - 45s 207ms/step - loss: 1.2744 - accuracy: 0.6673\n",
            "Epoch 117/200\n",
            "219/219 [==============================] - 45s 203ms/step - loss: 1.2540 - accuracy: 0.6722\n",
            "Epoch 118/200\n",
            "219/219 [==============================] - 45s 207ms/step - loss: 1.1440 - accuracy: 0.6912\n",
            "Epoch 119/200\n",
            "219/219 [==============================] - 45s 206ms/step - loss: 1.0699 - accuracy: 0.7069\n",
            "Epoch 120/200\n",
            "219/219 [==============================] - 46s 208ms/step - loss: 1.0343 - accuracy: 0.7145\n",
            "Epoch 121/200\n",
            "219/219 [==============================] - 47s 214ms/step - loss: 1.0123 - accuracy: 0.7191\n",
            "Epoch 122/200\n",
            "219/219 [==============================] - 47s 215ms/step - loss: 1.0415 - accuracy: 0.7153\n",
            "Epoch 123/200\n",
            "219/219 [==============================] - 47s 215ms/step - loss: 1.1098 - accuracy: 0.7109\n",
            "Epoch 124/200\n",
            "219/219 [==============================] - 45s 206ms/step - loss: 1.0946 - accuracy: 0.7084\n",
            "Epoch 125/200\n",
            "219/219 [==============================] - 46s 210ms/step - loss: 1.1452 - accuracy: 0.6931\n",
            "Epoch 126/200\n",
            "219/219 [==============================] - 45s 205ms/step - loss: 1.1017 - accuracy: 0.7006\n",
            "Epoch 127/200\n",
            "219/219 [==============================] - 45s 207ms/step - loss: 1.1721 - accuracy: 0.6947\n",
            "Epoch 128/200\n",
            "219/219 [==============================] - 46s 212ms/step - loss: 1.1802 - accuracy: 0.6920\n",
            "Epoch 129/200\n",
            "219/219 [==============================] - 47s 216ms/step - loss: 1.1425 - accuracy: 0.6992\n",
            "Epoch 130/200\n",
            "219/219 [==============================] - 48s 218ms/step - loss: 1.0640 - accuracy: 0.7124\n",
            "Epoch 131/200\n",
            "219/219 [==============================] - 48s 220ms/step - loss: 1.0251 - accuracy: 0.7231\n",
            "Epoch 132/200\n",
            "219/219 [==============================] - 48s 218ms/step - loss: 0.9885 - accuracy: 0.7304\n",
            "Epoch 133/200\n",
            "219/219 [==============================] - 48s 219ms/step - loss: 1.0294 - accuracy: 0.7252\n",
            "Epoch 134/200\n",
            "219/219 [==============================] - 48s 221ms/step - loss: 0.9798 - accuracy: 0.7335\n",
            "Epoch 135/200\n",
            "219/219 [==============================] - 48s 218ms/step - loss: 0.9455 - accuracy: 0.7382\n",
            "Epoch 136/200\n",
            "219/219 [==============================] - 49s 226ms/step - loss: 0.9314 - accuracy: 0.7410\n",
            "Epoch 137/200\n",
            "219/219 [==============================] - 47s 216ms/step - loss: 0.8926 - accuracy: 0.7486\n",
            "Epoch 138/200\n",
            "219/219 [==============================] - 47s 214ms/step - loss: 0.8511 - accuracy: 0.7575\n",
            "Epoch 139/200\n",
            "219/219 [==============================] - 47s 214ms/step - loss: 0.8528 - accuracy: 0.7583\n",
            "Epoch 140/200\n",
            "219/219 [==============================] - 47s 213ms/step - loss: 0.8745 - accuracy: 0.7554\n",
            "Epoch 141/200\n",
            "219/219 [==============================] - 48s 217ms/step - loss: 0.9566 - accuracy: 0.7437\n",
            "Epoch 142/200\n",
            "219/219 [==============================] - 47s 214ms/step - loss: 0.9785 - accuracy: 0.7353\n",
            "Epoch 143/200\n",
            "219/219 [==============================] - 47s 213ms/step - loss: 1.0315 - accuracy: 0.7293\n",
            "Epoch 144/200\n",
            "219/219 [==============================] - 47s 216ms/step - loss: 1.1301 - accuracy: 0.7077\n",
            "Epoch 145/200\n",
            "219/219 [==============================] - 47s 216ms/step - loss: 1.2756 - accuracy: 0.6701\n",
            "Epoch 146/200\n",
            "219/219 [==============================] - 46s 212ms/step - loss: 1.1324 - accuracy: 0.7057\n",
            "Epoch 147/200\n",
            "219/219 [==============================] - 45s 204ms/step - loss: 1.0120 - accuracy: 0.7326\n",
            "Epoch 148/200\n",
            "219/219 [==============================] - 45s 206ms/step - loss: 0.9056 - accuracy: 0.7540\n",
            "Epoch 149/200\n",
            "219/219 [==============================] - 43s 198ms/step - loss: 0.8979 - accuracy: 0.7563\n",
            "Epoch 150/200\n",
            "219/219 [==============================] - 43s 198ms/step - loss: 0.8433 - accuracy: 0.7649\n",
            "Epoch 151/200\n",
            "219/219 [==============================] - 43s 198ms/step - loss: 0.8197 - accuracy: 0.7698\n",
            "Epoch 152/200\n",
            "219/219 [==============================] - 44s 199ms/step - loss: 0.8159 - accuracy: 0.7712\n",
            "Epoch 153/200\n",
            "219/219 [==============================] - 43s 196ms/step - loss: 0.8147 - accuracy: 0.7728\n",
            "Epoch 154/200\n",
            "219/219 [==============================] - 43s 195ms/step - loss: 0.8979 - accuracy: 0.7566\n",
            "Epoch 155/200\n",
            "219/219 [==============================] - 43s 199ms/step - loss: 0.8552 - accuracy: 0.7640\n",
            "Epoch 156/200\n",
            "219/219 [==============================] - 47s 213ms/step - loss: 0.8531 - accuracy: 0.7648\n",
            "Epoch 157/200\n",
            "219/219 [==============================] - 46s 211ms/step - loss: 0.9420 - accuracy: 0.7487\n",
            "Epoch 158/200\n",
            "219/219 [==============================] - 43s 197ms/step - loss: 0.9716 - accuracy: 0.7379\n",
            "Epoch 159/200\n",
            "219/219 [==============================] - 43s 194ms/step - loss: 0.9634 - accuracy: 0.7428\n",
            "Epoch 160/200\n",
            "219/219 [==============================] - 57s 261ms/step - loss: 0.8960 - accuracy: 0.7548\n",
            "Epoch 161/200\n",
            "219/219 [==============================] - 43s 195ms/step - loss: 0.9457 - accuracy: 0.7446\n",
            "Epoch 162/200\n",
            "219/219 [==============================] - 42s 194ms/step - loss: 0.9912 - accuracy: 0.7351\n",
            "Epoch 163/200\n",
            "219/219 [==============================] - 62s 284ms/step - loss: 1.0738 - accuracy: 0.7271\n",
            "Epoch 164/200\n",
            "219/219 [==============================] - 57s 259ms/step - loss: 0.9849 - accuracy: 0.7383\n",
            "Epoch 165/200\n",
            "219/219 [==============================] - 57s 263ms/step - loss: 0.9028 - accuracy: 0.7571\n",
            "Epoch 166/200\n",
            "219/219 [==============================] - 42s 194ms/step - loss: 0.8750 - accuracy: 0.7638\n",
            "Epoch 167/200\n",
            "219/219 [==============================] - 44s 199ms/step - loss: 0.9248 - accuracy: 0.7554\n",
            "Epoch 168/200\n",
            "219/219 [==============================] - 43s 195ms/step - loss: 0.9276 - accuracy: 0.7574\n",
            "Epoch 169/200\n",
            "219/219 [==============================] - 42s 193ms/step - loss: 0.8549 - accuracy: 0.7675\n",
            "Epoch 170/200\n",
            "219/219 [==============================] - 42s 191ms/step - loss: 0.8236 - accuracy: 0.7749\n",
            "Epoch 171/200\n",
            "219/219 [==============================] - 42s 190ms/step - loss: 0.8400 - accuracy: 0.7711\n",
            "Epoch 172/200\n",
            "219/219 [==============================] - 41s 189ms/step - loss: 0.9299 - accuracy: 0.7512\n",
            "Epoch 173/200\n",
            "219/219 [==============================] - 42s 191ms/step - loss: 0.9029 - accuracy: 0.7553\n",
            "Epoch 174/200\n",
            "219/219 [==============================] - 41s 188ms/step - loss: 0.8294 - accuracy: 0.7736\n",
            "Epoch 175/200\n",
            "219/219 [==============================] - 42s 191ms/step - loss: 0.8280 - accuracy: 0.7689\n",
            "Epoch 176/200\n",
            "219/219 [==============================] - 42s 193ms/step - loss: 0.8039 - accuracy: 0.7789\n",
            "Epoch 177/200\n",
            "219/219 [==============================] - 42s 193ms/step - loss: 0.8306 - accuracy: 0.7739\n",
            "Epoch 178/200\n",
            "219/219 [==============================] - 42s 192ms/step - loss: 0.9023 - accuracy: 0.7566\n",
            "Epoch 179/200\n",
            "219/219 [==============================] - 42s 194ms/step - loss: 0.8392 - accuracy: 0.7661\n",
            "Epoch 180/200\n",
            "219/219 [==============================] - 44s 199ms/step - loss: 0.8581 - accuracy: 0.7654\n",
            "Epoch 181/200\n",
            "219/219 [==============================] - 43s 198ms/step - loss: 0.8961 - accuracy: 0.7539\n",
            "Epoch 182/200\n",
            "219/219 [==============================] - 45s 206ms/step - loss: 0.7926 - accuracy: 0.7814\n",
            "Epoch 183/200\n",
            "219/219 [==============================] - 43s 197ms/step - loss: 0.7555 - accuracy: 0.7922\n",
            "Epoch 184/200\n",
            "219/219 [==============================] - 43s 195ms/step - loss: 0.8257 - accuracy: 0.7786\n",
            "Epoch 185/200\n",
            "219/219 [==============================] - 43s 195ms/step - loss: 0.7910 - accuracy: 0.7809\n",
            "Epoch 186/200\n",
            "219/219 [==============================] - 42s 194ms/step - loss: 0.8146 - accuracy: 0.7738\n",
            "Epoch 187/200\n",
            "219/219 [==============================] - 43s 194ms/step - loss: 0.7724 - accuracy: 0.7853\n",
            "Epoch 188/200\n",
            "219/219 [==============================] - 45s 207ms/step - loss: 0.8830 - accuracy: 0.7708\n",
            "Epoch 189/200\n",
            "219/219 [==============================] - 49s 224ms/step - loss: 0.8365 - accuracy: 0.7721\n",
            "Epoch 190/200\n",
            "219/219 [==============================] - 47s 213ms/step - loss: 0.7468 - accuracy: 0.7914\n",
            "Epoch 191/200\n",
            "219/219 [==============================] - 44s 200ms/step - loss: 0.6929 - accuracy: 0.8015\n",
            "Epoch 192/200\n",
            "219/219 [==============================] - 44s 200ms/step - loss: 0.6800 - accuracy: 0.8045\n",
            "Epoch 193/200\n",
            "219/219 [==============================] - 43s 198ms/step - loss: 0.6651 - accuracy: 0.8081\n",
            "Epoch 194/200\n",
            "219/219 [==============================] - 44s 201ms/step - loss: 0.9841 - accuracy: 0.7606\n",
            "Epoch 195/200\n",
            "219/219 [==============================] - 44s 201ms/step - loss: 1.1154 - accuracy: 0.7288\n",
            "Epoch 196/200\n",
            "219/219 [==============================] - 44s 202ms/step - loss: 1.0300 - accuracy: 0.7389\n",
            "Epoch 197/200\n",
            "219/219 [==============================] - 44s 200ms/step - loss: 0.9698 - accuracy: 0.7518\n",
            "Epoch 198/200\n",
            "219/219 [==============================] - 50s 228ms/step - loss: 0.9036 - accuracy: 0.7621\n",
            "Epoch 199/200\n",
            "219/219 [==============================] - 44s 201ms/step - loss: 0.8488 - accuracy: 0.7715\n",
            "Epoch 200/200\n",
            "219/219 [==============================] - 44s 199ms/step - loss: 0.8123 - accuracy: 0.7798\n"
          ]
        }
      ]
    },
    {
      "cell_type": "code",
      "source": [
        "model.save('model_nlp.h5')"
      ],
      "metadata": {
        "id": "Cx_EGuMdpMca"
      },
      "execution_count": null,
      "outputs": []
    },
    {
      "cell_type": "code",
      "source": [
        "def pred(seed_text,next_mot):\n",
        "  for _ in range(next_mot):\n",
        "    token_list = tokenizer.texts_to_sequences([seed_text])[0]\n",
        "    token_list = pad_sequences([token_list], maxlen=9, padding='pre')\n",
        "    predicted = np.argmax(model(token_list))\n",
        "    output_w = \"\"\n",
        "    for word, index in tokenizer.word_index.items():\n",
        "      if index == predicted:\n",
        "        output_w = word\n",
        "        break\n",
        "    seed_text += \" \" + output_w\n",
        "  return seed_text"
      ],
      "metadata": {
        "id": "ZQ7xAYg_ZnX0"
      },
      "execution_count": null,
      "outputs": []
    },
    {
      "cell_type": "code",
      "source": [
        "pred('je vais',3)"
      ],
      "metadata": {
        "colab": {
          "base_uri": "https://localhost:8080/",
          "height": 35
        },
        "id": "dNGu6zislvVh",
        "outputId": "6fc7b70e-80d9-499b-b267-dde630d1a4a9"
      },
      "execution_count": null,
      "outputs": [
        {
          "output_type": "execute_result",
          "data": {
            "application/vnd.google.colaboratory.intrinsic+json": {
              "type": "string"
            },
            "text/plain": [
              "'je vais chercher les copains'"
            ]
          },
          "metadata": {},
          "execution_count": 25
        }
      ]
    },
    {
      "cell_type": "code",
      "source": [
        "pred('Il cherche', 3)"
      ],
      "metadata": {
        "colab": {
          "base_uri": "https://localhost:8080/",
          "height": 35
        },
        "id": "1xo6qXDFrZz3",
        "outputId": "77f84cdc-820b-4267-9a1b-c15f842481fc"
      },
      "execution_count": null,
      "outputs": [
        {
          "output_type": "execute_result",
          "data": {
            "application/vnd.google.colaboratory.intrinsic+json": {
              "type": "string"
            },
            "text/plain": [
              "'Il cherche zéon à table'"
            ]
          },
          "metadata": {},
          "execution_count": 26
        }
      ]
    },
    {
      "cell_type": "code",
      "source": [
        "pred(\"C'était\",3)"
      ],
      "metadata": {
        "colab": {
          "base_uri": "https://localhost:8080/",
          "height": 35
        },
        "id": "YRGRe4-Brs23",
        "outputId": "33ed759d-3ec5-44d0-d28a-fc5a376c2909"
      },
      "execution_count": null,
      "outputs": [
        {
          "output_type": "execute_result",
          "data": {
            "application/vnd.google.colaboratory.intrinsic+json": {
              "type": "string"
            },
            "text/plain": [
              "\"C'était le père noël\""
            ]
          },
          "metadata": {},
          "execution_count": 33
        }
      ]
    },
    {
      "cell_type": "code",
      "source": [
        "pred(\"Il faut\",5)"
      ],
      "metadata": {
        "colab": {
          "base_uri": "https://localhost:8080/",
          "height": 35
        },
        "id": "OTImAnUVrwR7",
        "outputId": "f7d6d1b9-2c6e-4361-d75a-a541509cee7b"
      },
      "execution_count": null,
      "outputs": [
        {
          "output_type": "execute_result",
          "data": {
            "application/vnd.google.colaboratory.intrinsic+json": {
              "type": "string"
            },
            "text/plain": [
              "'Il faut bizarre de penser avec interdiction'"
            ]
          },
          "metadata": {},
          "execution_count": 36
        }
      ]
    },
    {
      "cell_type": "code",
      "source": [
        "pred(\"Il ne faut pas\",11)"
      ],
      "metadata": {
        "colab": {
          "base_uri": "https://localhost:8080/",
          "height": 35
        },
        "id": "jm2ZUz5ssBAr",
        "outputId": "0b4e800d-813e-427e-92f8-cb4c935ed800"
      },
      "execution_count": null,
      "outputs": [
        {
          "output_type": "execute_result",
          "data": {
            "application/vnd.google.colaboratory.intrinsic+json": {
              "type": "string"
            },
            "text/plain": [
              "'Il ne faut pas crier non plus ça risque de lui faire de son aile'"
            ]
          },
          "metadata": {},
          "execution_count": 41
        }
      ]
    },
    {
      "cell_type": "code",
      "source": [
        "pred(\"Elle\",4)"
      ],
      "metadata": {
        "colab": {
          "base_uri": "https://localhost:8080/",
          "height": 35
        },
        "id": "CQtcWD2SsJhr",
        "outputId": "09f5cd2b-3276-40b4-9fc7-fbb7fbf9fd3d"
      },
      "execution_count": null,
      "outputs": [
        {
          "output_type": "execute_result",
          "data": {
            "application/vnd.google.colaboratory.intrinsic+json": {
              "type": "string"
            },
            "text/plain": [
              "'Elle a peur du noir'"
            ]
          },
          "metadata": {},
          "execution_count": 43
        }
      ]
    },
    {
      "cell_type": "code",
      "source": [
        "pred(\"Je ne\",5)"
      ],
      "metadata": {
        "colab": {
          "base_uri": "https://localhost:8080/",
          "height": 35
        },
        "id": "bTsvge2bs3mq",
        "outputId": "0cdc4280-58f1-4ef5-ae26-cf091820ddc5"
      },
      "execution_count": null,
      "outputs": [
        {
          "output_type": "execute_result",
          "data": {
            "application/vnd.google.colaboratory.intrinsic+json": {
              "type": "string"
            },
            "text/plain": [
              "\"Je ne suis pas d'accord elle marche\""
            ]
          },
          "metadata": {},
          "execution_count": 49
        }
      ]
    }
  ]
}